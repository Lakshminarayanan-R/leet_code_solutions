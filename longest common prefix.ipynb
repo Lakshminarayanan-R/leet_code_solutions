{
 "cells": [
  {
   "cell_type": "markdown",
   "id": "24d21212",
   "metadata": {},
   "source": [
    "<center><h1>Longest Common Prefix"
   ]
  },
  {
   "cell_type": "code",
   "execution_count": 7,
   "id": "490f0bba",
   "metadata": {},
   "outputs": [
    {
     "data": {
      "text/plain": [
       "''"
      ]
     },
     "execution_count": 7,
     "metadata": {},
     "output_type": "execute_result"
    }
   ],
   "source": [
    "class Solution:\n",
    "    def longestCommonPrefix(self, strs) -> str:\n",
    "        count = 0\n",
    "        str_len = [len(i) for i in strs]\n",
    "        for i in range(len(str_len)):\n",
    "            if min(str_len) == str_len[i]:\n",
    "                index = i\n",
    "        short_str = strs[index]\n",
    "        for i in range(min(str_len)):\n",
    "            for j in strs:\n",
    "                if short_str in j[:len(short_str)]:\n",
    "                    count = count+1\n",
    "                else:\n",
    "                    count = 0\n",
    "            if count == len(strs):\n",
    "                return short_str\n",
    "            else:\n",
    "                short_str = short_str[:-1]\n",
    "                count = 0\n",
    "        return \"\"\n",
    "soln = Solution()\n",
    "soln.longestCommonPrefix([\"reflower\",\"flow\",\"flight\"])"
   ]
  },
  {
   "cell_type": "code",
   "execution_count": 12,
   "id": "ed9e908d",
   "metadata": {},
   "outputs": [
    {
     "data": {
      "text/plain": [
       "'fl'"
      ]
     },
     "execution_count": 12,
     "metadata": {},
     "output_type": "execute_result"
    }
   ],
   "source": [
    "soln.longestCommonPrefix([\"flower\",\"flow\",\"flight\"])"
   ]
  },
  {
   "cell_type": "code",
   "execution_count": 13,
   "id": "d7877d9c",
   "metadata": {},
   "outputs": [
    {
     "data": {
      "text/plain": [
       "''"
      ]
     },
     "execution_count": 13,
     "metadata": {},
     "output_type": "execute_result"
    }
   ],
   "source": [
    "class lean_Solution:\n",
    "    def longestCommonPrefix(self, strs):\n",
    "        if len(strs) == 0 or min(strs) == \"\": return \"\"\n",
    "        str_dict = {}\n",
    "        for i in strs:\n",
    "            str_dict[i] = len(i)\n",
    "        min_len= min(str_dict.values())\n",
    "        for key in str_dict.keys():\n",
    "            if str_dict[key] == min_len:\n",
    "                min_len_ch = key\n",
    "                break\n",
    "        for j in strs:\n",
    "            while not j.startswith(min_len_ch):\n",
    "                min_len_ch = min_len_ch[:-1]\n",
    "        return min_len_ch\n",
    "soln_lean = lean_Solution()\n",
    "soln_lean.longestCommonPrefix([\"reflower\",\"flow\",\"flight\"])"
   ]
  },
  {
   "cell_type": "code",
   "execution_count": 14,
   "id": "fd0b14fa",
   "metadata": {},
   "outputs": [
    {
     "data": {
      "text/plain": [
       "'fl'"
      ]
     },
     "execution_count": 14,
     "metadata": {},
     "output_type": "execute_result"
    }
   ],
   "source": [
    "soln_lean.longestCommonPrefix([\"flower\",\"flow\",\"flight\"])"
   ]
  },
  {
   "cell_type": "code",
   "execution_count": null,
   "id": "f1fda618",
   "metadata": {},
   "outputs": [],
   "source": []
  }
 ],
 "metadata": {
  "kernelspec": {
   "display_name": "Python 3 (ipykernel)",
   "language": "python",
   "name": "python3"
  },
  "language_info": {
   "codemirror_mode": {
    "name": "ipython",
    "version": 3
   },
   "file_extension": ".py",
   "mimetype": "text/x-python",
   "name": "python",
   "nbconvert_exporter": "python",
   "pygments_lexer": "ipython3",
   "version": "3.9.13"
  }
 },
 "nbformat": 4,
 "nbformat_minor": 5
}

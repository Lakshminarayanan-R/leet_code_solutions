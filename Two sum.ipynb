{
 "cells": [
  {
   "cell_type": "code",
   "execution_count": 54,
   "id": "9f42f16d",
   "metadata": {},
   "outputs": [
    {
     "name": "stdout",
     "output_type": "stream",
     "text": [
      "0.6010532379150391 ms\n"
     ]
    }
   ],
   "source": [
    "#Brute Force Method\n",
    "import time\n",
    "start = time.time()\n",
    "class Solution:\n",
    "    def twoSum(self, nums, target):\n",
    "        for i in range(len(nums)):\n",
    "            for j in range(i+1,len(nums)):\n",
    "                if target == nums[i] + nums[j]:\n",
    "                    return [i,j]\n",
    "                    \n",
    "soln = Solution()\n",
    "soln.twoSum([1,3,4,5,7],9)\n",
    "print((time.time()-start)*1000,'ms')"
   ]
  },
  {
   "cell_type": "code",
   "execution_count": 55,
   "id": "796787ff",
   "metadata": {},
   "outputs": [
    {
     "name": "stdout",
     "output_type": "stream",
     "text": [
      "0.3910064697265625 ms\n"
     ]
    }
   ],
   "source": [
    "#Optimized method using an additional list (Time complexity - O(N), space complexity - O(N))\n",
    "start = time.time()\n",
    "class Solution:\n",
    "    def twoSum(self, nums, target):\n",
    "        checked_list = []\n",
    "        for i in range(len(nums)):\n",
    "            if target - nums[i] not in checked_list:\n",
    "                checked_list.append(nums[i])\n",
    "            else:\n",
    "                return (checked_list.index(target-nums[i]),i)\n",
    "soln = Solution()\n",
    "soln.twoSum([1,3,4,5,7],9)\n",
    "print((time.time()-start)*1000,'ms')"
   ]
  }
 ],
 "metadata": {
  "kernelspec": {
   "display_name": "Python 3 (ipykernel)",
   "language": "python",
   "name": "python3"
  },
  "language_info": {
   "codemirror_mode": {
    "name": "ipython",
    "version": 3
   },
   "file_extension": ".py",
   "mimetype": "text/x-python",
   "name": "python",
   "nbconvert_exporter": "python",
   "pygments_lexer": "ipython3",
   "version": "3.9.13"
  }
 },
 "nbformat": 4,
 "nbformat_minor": 5
}

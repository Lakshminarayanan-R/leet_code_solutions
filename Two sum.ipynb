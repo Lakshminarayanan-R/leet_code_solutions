{
 "cells": [
  {
   "cell_type": "code",
   "execution_count": 137,
   "id": "6c21f1b5",
   "metadata": {},
   "outputs": [
    {
     "data": {
      "text/plain": [
       "[1, 2]"
      ]
     },
     "execution_count": 137,
     "metadata": {},
     "output_type": "execute_result"
    }
   ],
   "source": [
    "#Brute Force Method\n",
    "import time\n",
    "class Solution:\n",
    "    def twoSum(self, nums, target):\n",
    "        for i in range(len(nums)):\n",
    "            for j in range(i+1,len(nums)):\n",
    "                if target == nums[i] + nums[j]:\n",
    "                    return [i,j]\n",
    "                    \n",
    "soln = Solution()\n",
    "soln.twoSum([1234, 5678, 9012], 14690)"
   ]
  },
  {
   "cell_type": "code",
   "execution_count": 138,
   "id": "0f51a3da",
   "metadata": {},
   "outputs": [
    {
     "name": "stdout",
     "output_type": "stream",
     "text": [
      "0.16307830810546875 ms\n"
     ]
    }
   ],
   "source": [
    "start = time.time()\n",
    "soln.twoSum([1,3,4,5,7],9)\n",
    "print((time.time()-start)*1000,'ms')"
   ]
  },
  {
   "cell_type": "code",
   "execution_count": 139,
   "id": "496550cb",
   "metadata": {},
   "outputs": [
    {
     "data": {
      "text/plain": [
       "(1, 2)"
      ]
     },
     "execution_count": 139,
     "metadata": {},
     "output_type": "execute_result"
    }
   ],
   "source": [
    "#Optimized method using an additional list (Time complexity - O(N), space complexity - O(N))\n",
    "start = time.time()\n",
    "class Optimized_Solution:\n",
    "    def twoSum(self, nums, target):\n",
    "        checked_list = []\n",
    "        for i in range(len(nums)):\n",
    "            if target - nums[i] not in checked_list:\n",
    "                checked_list.append(nums[i])\n",
    "            else:\n",
    "                return (checked_list.index(target-nums[i]),i)\n",
    "optm_soln = Optimized_Solution()\n",
    "optm_soln.twoSum([1234, 5678, 9012], 14690)"
   ]
  },
  {
   "cell_type": "code",
   "execution_count": 140,
   "id": "1b2f496c",
   "metadata": {},
   "outputs": [
    {
     "name": "stdout",
     "output_type": "stream",
     "text": [
      "0.15401840209960938 ms\n"
     ]
    }
   ],
   "source": [
    "start = time.time()\n",
    "optm_soln.twoSum([1,3,4,5,7],9)\n",
    "print((time.time()-start)*1000,'ms')"
   ]
  },
  {
   "cell_type": "code",
   "execution_count": null,
   "id": "4d3fd044",
   "metadata": {},
   "outputs": [],
   "source": []
  }
 ],
 "metadata": {
  "kernelspec": {
   "display_name": "Python 3 (ipykernel)",
   "language": "python",
   "name": "python3"
  },
  "language_info": {
   "codemirror_mode": {
    "name": "ipython",
    "version": 3
   },
   "file_extension": ".py",
   "mimetype": "text/x-python",
   "name": "python",
   "nbconvert_exporter": "python",
   "pygments_lexer": "ipython3",
   "version": "3.9.13"
  }
 },
 "nbformat": 4,
 "nbformat_minor": 5
}

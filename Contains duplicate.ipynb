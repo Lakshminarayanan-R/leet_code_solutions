{
 "cells": [
  {
   "cell_type": "markdown",
   "id": "f8fa01c7",
   "metadata": {},
   "source": [
    "<center><h1>Contains Duplicates"
   ]
  },
  {
   "cell_type": "code",
   "execution_count": 10,
   "id": "73fc3a30",
   "metadata": {},
   "outputs": [
    {
     "name": "stdout",
     "output_type": "stream",
     "text": [
      "CPU times: user 152 µs, sys: 2 µs, total: 154 µs\n",
      "Wall time: 164 µs\n"
     ]
    },
    {
     "data": {
      "text/plain": [
       "True"
      ]
     },
     "execution_count": 10,
     "metadata": {},
     "output_type": "execute_result"
    }
   ],
   "source": [
    "%%time\n",
    "class Solution:\n",
    "    def containsDuplicate(self, nums) -> bool:\n",
    "        nums = sorted(nums)\n",
    "        for i in range(len(nums)-1):\n",
    "            if nums[i] == nums[i+1]:\n",
    "                return True\n",
    "        return False\n",
    "soln = Solution()\n",
    "soln.containsDuplicate([1,2,3,1])"
   ]
  },
  {
   "cell_type": "markdown",
   "id": "5e748005",
   "metadata": {},
   "source": [
    "<b>The above code initially sorts the list and then compares the neighbouring elements until it finds a match"
   ]
  },
  {
   "cell_type": "code",
   "execution_count": 12,
   "id": "7b051824",
   "metadata": {},
   "outputs": [
    {
     "name": "stdout",
     "output_type": "stream",
     "text": [
      "CPU times: user 80 µs, sys: 1e+03 ns, total: 81 µs\n",
      "Wall time: 86.1 µs\n"
     ]
    },
    {
     "data": {
      "text/plain": [
       "True"
      ]
     },
     "execution_count": 12,
     "metadata": {},
     "output_type": "execute_result"
    }
   ],
   "source": [
    "%%time\n",
    "class lean_Solution:\n",
    "    def containsDuplicate(self, nums) -> bool:\n",
    "        if len(set(nums)) != len(nums):\n",
    "            return True\n",
    "        return False\n",
    "lean_soln = lean_Solution()\n",
    "lean_soln.containsDuplicate([1,2,3,1])"
   ]
  },
  {
   "cell_type": "markdown",
   "id": "6ad27a82",
   "metadata": {},
   "source": [
    "<b>In the above code the list is converted to set which removes all the unique values then the length of both of the list and set are comp?ared, if they are not equal then there is a match"
   ]
  }
 ],
 "metadata": {
  "kernelspec": {
   "display_name": "Python 3 (ipykernel)",
   "language": "python",
   "name": "python3"
  },
  "language_info": {
   "codemirror_mode": {
    "name": "ipython",
    "version": 3
   },
   "file_extension": ".py",
   "mimetype": "text/x-python",
   "name": "python",
   "nbconvert_exporter": "python",
   "pygments_lexer": "ipython3",
   "version": "3.9.13"
  }
 },
 "nbformat": 4,
 "nbformat_minor": 5
}

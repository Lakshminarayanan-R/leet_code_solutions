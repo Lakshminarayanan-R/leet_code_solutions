{
 "cells": [
  {
   "cell_type": "markdown",
   "id": "e0db91eb",
   "metadata": {},
   "source": [
    "<center><h1>Valid Anagram"
   ]
  },
  {
   "cell_type": "code",
   "execution_count": 35,
   "id": "cedac613",
   "metadata": {},
   "outputs": [
    {
     "name": "stdout",
     "output_type": "stream",
     "text": [
      "CPU times: user 87 µs, sys: 33 µs, total: 120 µs\n",
      "Wall time: 135 µs\n"
     ]
    },
    {
     "data": {
      "text/plain": [
       "False"
      ]
     },
     "execution_count": 35,
     "metadata": {},
     "output_type": "execute_result"
    }
   ],
   "source": [
    "%%time\n",
    "class Solution:\n",
    "    def isAnagram(self, s: str, t: str) -> bool:\n",
    "        if sorted(s) != sorted(t):\n",
    "            return False\n",
    "        else:\n",
    "            return True\n",
    "soln = Solution()\n",
    "soln.isAnagram(\"anagramadfaefadefaqrfq\",\"nagaramadfasdfafwefaqwfqw\")"
   ]
  },
  {
   "cell_type": "markdown",
   "id": "f462672a",
   "metadata": {},
   "source": [
    "<b>The above code will initially sort the given strings as per alphabetical order and then compare the exact match between both"
   ]
  },
  {
   "cell_type": "code",
   "execution_count": 36,
   "id": "b070457f",
   "metadata": {},
   "outputs": [],
   "source": [
    "from collections import Counter"
   ]
  },
  {
   "cell_type": "code",
   "execution_count": 37,
   "id": "5d76d96d",
   "metadata": {},
   "outputs": [
    {
     "name": "stdout",
     "output_type": "stream",
     "text": [
      "CPU times: user 208 µs, sys: 74 µs, total: 282 µs\n",
      "Wall time: 293 µs\n"
     ]
    },
    {
     "data": {
      "text/plain": [
       "False"
      ]
     },
     "execution_count": 37,
     "metadata": {},
     "output_type": "execute_result"
    }
   ],
   "source": [
    "%%time\n",
    "class alternate_Solution:\n",
    "    def isAnagram(self, s: str, t: str) -> bool:\n",
    "        s_counter = Counter(s)\n",
    "        t_counter = Counter(t)\n",
    "        if s_counter != t_counter:\n",
    "                return False\n",
    "        return True\n",
    "alternate_soln = alternate_Solution()\n",
    "alternate_soln.isAnagram(\"anagramadfaefadefaqrfq\",\"nagaramadfasdfafwefaqwfqw\")"
   ]
  },
  {
   "cell_type": "markdown",
   "id": "a64c999e",
   "metadata": {},
   "source": [
    "<b>The above code will count the number of each alphabet and create a dictionary with alphabets as the keys and frequency as their values. Then they are compared head to head"
   ]
  }
 ],
 "metadata": {
  "kernelspec": {
   "display_name": "Python 3 (ipykernel)",
   "language": "python",
   "name": "python3"
  },
  "language_info": {
   "codemirror_mode": {
    "name": "ipython",
    "version": 3
   },
   "file_extension": ".py",
   "mimetype": "text/x-python",
   "name": "python",
   "nbconvert_exporter": "python",
   "pygments_lexer": "ipython3",
   "version": "3.9.13"
  }
 },
 "nbformat": 4,
 "nbformat_minor": 5
}
